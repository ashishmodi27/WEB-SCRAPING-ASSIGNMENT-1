{
 "cells": [
  {
   "cell_type": "markdown",
   "metadata": {},
   "source": [
    "### Que 1. Write a python program to display all the header tags from ‘en.wikipedia.org/wiki/Main_Page’."
   ]
  },
  {
   "cell_type": "code",
   "execution_count": 1,
   "metadata": {},
   "outputs": [],
   "source": [
    "from bs4 import BeautifulSoup\n",
    "import requests"
   ]
  },
  {
   "cell_type": "code",
   "execution_count": 2,
   "metadata": {},
   "outputs": [
    {
     "data": {
      "text/plain": [
       "<Response [200]>"
      ]
     },
     "execution_count": 2,
     "metadata": {},
     "output_type": "execute_result"
    }
   ],
   "source": [
    "page=requests.get(\"https://en.wikipedia.org/wiki/Main_Page\")\n",
    "page"
   ]
  },
  {
   "cell_type": "code",
   "execution_count": 3,
   "metadata": {},
   "outputs": [
    {
     "name": "stdout",
     "output_type": "stream",
     "text": [
      "<h1 class=\"firstHeading\" id=\"firstHeading\">Main Page</h1>\n",
      "\n",
      "<h2 class=\"mp-h2\" id=\"mp-tfa-h2\"><span id=\"From_today.27s_featured_article\"></span><span class=\"mw-headline\" id=\"From_today's_featured_article\">From today's featured article</span></h2>\n",
      "\n",
      "<h2 class=\"mp-h2\" id=\"mp-dyk-h2\"><span class=\"mw-headline\" id=\"Did_you_know_...\">Did you know ...</span></h2>\n",
      "\n",
      "<h2 class=\"mp-h2\" id=\"mp-itn-h2\"><span class=\"mw-headline\" id=\"In_the_news\">In the news</span></h2>\n",
      "\n",
      "<h2 class=\"mp-h2\" id=\"mp-otd-h2\"><span class=\"mw-headline\" id=\"On_this_day\">On this day</span></h2>\n",
      "\n",
      "<h2 class=\"mp-h2\" id=\"mp-tfp-h2\"><span id=\"Today.27s_featured_picture\"></span><span class=\"mw-headline\" id=\"Today's_featured_picture\">Today's featured picture</span></h2>\n",
      "\n",
      "<h2 class=\"mp-h2\" id=\"mp-other\"><span class=\"mw-headline\" id=\"Other_areas_of_Wikipedia\">Other areas of Wikipedia</span></h2>\n",
      "\n",
      "<h2 class=\"mp-h2\" id=\"mp-sister\"><span id=\"Wikipedia.27s_sister_projects\"></span><span class=\"mw-headline\" id=\"Wikipedia's_sister_projects\">Wikipedia's sister projects</span></h2>\n",
      "\n",
      "<h2 class=\"mp-h2\" id=\"mp-lang\"><span class=\"mw-headline\" id=\"Wikipedia_languages\">Wikipedia languages</span></h2>\n",
      "\n",
      "<h2>Navigation menu</h2>\n",
      "\n",
      "<h3 class=\"vector-menu-heading\" id=\"p-personal-label\">\n",
      "<span>Personal tools</span>\n",
      "</h3>\n",
      "\n",
      "<h3 class=\"vector-menu-heading\" id=\"p-namespaces-label\">\n",
      "<span>Namespaces</span>\n",
      "</h3>\n",
      "\n",
      "<h3 class=\"vector-menu-heading\" id=\"p-variants-label\">\n",
      "<span>Variants</span>\n",
      "</h3>\n",
      "\n",
      "<h3 class=\"vector-menu-heading\" id=\"p-views-label\">\n",
      "<span>Views</span>\n",
      "</h3>\n",
      "\n",
      "<h3 class=\"vector-menu-heading\" id=\"p-cactions-label\">\n",
      "<span>More</span>\n",
      "</h3>\n",
      "\n",
      "<h3>\n",
      "<label for=\"searchInput\">Search</label>\n",
      "</h3>\n",
      "\n",
      "<h3 class=\"vector-menu-heading\" id=\"p-navigation-label\">\n",
      "<span>Navigation</span>\n",
      "</h3>\n",
      "\n",
      "<h3 class=\"vector-menu-heading\" id=\"p-interaction-label\">\n",
      "<span>Contribute</span>\n",
      "</h3>\n",
      "\n",
      "<h3 class=\"vector-menu-heading\" id=\"p-tb-label\">\n",
      "<span>Tools</span>\n",
      "</h3>\n",
      "\n",
      "<h3 class=\"vector-menu-heading\" id=\"p-coll-print_export-label\">\n",
      "<span>Print/export</span>\n",
      "</h3>\n",
      "\n",
      "<h3 class=\"vector-menu-heading\" id=\"p-wikibase-otherprojects-label\">\n",
      "<span>In other projects</span>\n",
      "</h3>\n",
      "\n",
      "<h3 class=\"vector-menu-heading\" id=\"p-lang-label\">\n",
      "<span>Languages</span>\n",
      "</h3>\n"
     ]
    }
   ],
   "source": [
    "soup=BeautifulSoup(page.content)\n",
    "titles = soup.find_all(['h1', 'h2','h3','h4','h5','h6'])\n",
    "print(*titles,sep='\\n\\n')"
   ]
  },
  {
   "cell_type": "markdown",
   "metadata": {},
   "source": [
    "### Que 2. Write a python program to display IMDB’s Top rated 100 movies’ data (i.e. Name, IMDB rating, Year of release) and save it in form of a CSV file. "
   ]
  },
  {
   "cell_type": "code",
   "execution_count": 4,
   "metadata": {},
   "outputs": [
    {
     "data": {
      "text/plain": [
       "<Response [200]>"
      ]
     },
     "execution_count": 4,
     "metadata": {},
     "output_type": "execute_result"
    }
   ],
   "source": [
    "page=requests.get(\"https://www.imdb.com/chart/top/\")\n",
    "page"
   ]
  },
  {
   "cell_type": "code",
   "execution_count": 5,
   "metadata": {},
   "outputs": [],
   "source": [
    "soup=BeautifulSoup(page.content)"
   ]
  },
  {
   "cell_type": "code",
   "execution_count": 6,
   "metadata": {},
   "outputs": [],
   "source": [
    "title=soup.find_all('td',class_='titleColumn')\n",
    "movie_title=[]\n",
    "year_release = []\n",
    "j=0\n",
    "for i in range(0,100):\n",
    "    mov = title[i].text.replace(\"\\n\",'')\n",
    "    if(j < 9):\n",
    "        num = 14\n",
    "    else:\n",
    "        num = 15\n",
    "    mov_title = mov[num:]\n",
    "    result = mov_title.index('(')\n",
    "    movie_title.append(mov_title[0:result])\n",
    "    year_release.append(mov_title[result+1:result+5])\n",
    "    j += 1"
   ]
  },
  {
   "cell_type": "code",
   "execution_count": 7,
   "metadata": {},
   "outputs": [],
   "source": [
    "rating=soup.find_all('td',class_='ratingColumn imdbRating')\n",
    "movie_rating=[]\n",
    "for i in range(0,100):\n",
    "    movie_rating.append(rating[i].text.replace(\"\\n\",''))"
   ]
  },
  {
   "cell_type": "code",
   "execution_count": 8,
   "metadata": {},
   "outputs": [
    {
     "data": {
      "text/html": [
       "<div>\n",
       "<style scoped>\n",
       "    .dataframe tbody tr th:only-of-type {\n",
       "        vertical-align: middle;\n",
       "    }\n",
       "\n",
       "    .dataframe tbody tr th {\n",
       "        vertical-align: top;\n",
       "    }\n",
       "\n",
       "    .dataframe thead th {\n",
       "        text-align: right;\n",
       "    }\n",
       "</style>\n",
       "<table border=\"1\" class=\"dataframe\">\n",
       "  <thead>\n",
       "    <tr style=\"text-align: right;\">\n",
       "      <th></th>\n",
       "      <th>Name</th>\n",
       "      <th>IMDB rating</th>\n",
       "      <th>Year of release</th>\n",
       "    </tr>\n",
       "  </thead>\n",
       "  <tbody>\n",
       "    <tr>\n",
       "      <th>0</th>\n",
       "      <td>The Shawshank Redemption</td>\n",
       "      <td>9.2</td>\n",
       "      <td>1994</td>\n",
       "    </tr>\n",
       "    <tr>\n",
       "      <th>1</th>\n",
       "      <td>The Godfather</td>\n",
       "      <td>9.1</td>\n",
       "      <td>1972</td>\n",
       "    </tr>\n",
       "    <tr>\n",
       "      <th>2</th>\n",
       "      <td>The Godfather: Part II</td>\n",
       "      <td>9.0</td>\n",
       "      <td>1974</td>\n",
       "    </tr>\n",
       "    <tr>\n",
       "      <th>3</th>\n",
       "      <td>The Dark Knight</td>\n",
       "      <td>9.0</td>\n",
       "      <td>2008</td>\n",
       "    </tr>\n",
       "    <tr>\n",
       "      <th>4</th>\n",
       "      <td>12 Angry Men</td>\n",
       "      <td>8.9</td>\n",
       "      <td>1957</td>\n",
       "    </tr>\n",
       "    <tr>\n",
       "      <th>...</th>\n",
       "      <td>...</td>\n",
       "      <td>...</td>\n",
       "      <td>...</td>\n",
       "    </tr>\n",
       "    <tr>\n",
       "      <th>95</th>\n",
       "      <td>Citizen Kane</td>\n",
       "      <td>8.3</td>\n",
       "      <td>1941</td>\n",
       "    </tr>\n",
       "    <tr>\n",
       "      <th>96</th>\n",
       "      <td>Dangal</td>\n",
       "      <td>8.3</td>\n",
       "      <td>2016</td>\n",
       "    </tr>\n",
       "    <tr>\n",
       "      <th>97</th>\n",
       "      <td>Idi i smotri</td>\n",
       "      <td>8.2</td>\n",
       "      <td>1985</td>\n",
       "    </tr>\n",
       "    <tr>\n",
       "      <th>98</th>\n",
       "      <td>The Kid</td>\n",
       "      <td>8.2</td>\n",
       "      <td>1921</td>\n",
       "    </tr>\n",
       "    <tr>\n",
       "      <th>99</th>\n",
       "      <td>Singin' in the Rain</td>\n",
       "      <td>8.2</td>\n",
       "      <td>1952</td>\n",
       "    </tr>\n",
       "  </tbody>\n",
       "</table>\n",
       "<p>100 rows × 3 columns</p>\n",
       "</div>"
      ],
      "text/plain": [
       "                        Name IMDB rating Year of release\n",
       "0   The Shawshank Redemption         9.2            1994\n",
       "1              The Godfather         9.1            1972\n",
       "2     The Godfather: Part II         9.0            1974\n",
       "3            The Dark Knight         9.0            2008\n",
       "4               12 Angry Men         8.9            1957\n",
       "..                       ...         ...             ...\n",
       "95              Citizen Kane         8.3            1941\n",
       "96                    Dangal         8.3            2016\n",
       "97              Idi i smotri         8.2            1985\n",
       "98                   The Kid         8.2            1921\n",
       "99       Singin' in the Rain         8.2            1952\n",
       "\n",
       "[100 rows x 3 columns]"
      ]
     },
     "execution_count": 8,
     "metadata": {},
     "output_type": "execute_result"
    }
   ],
   "source": [
    "import pandas as pd\n",
    "movie=pd.DataFrame({})\n",
    "movie['Name']=movie_title\n",
    "movie['IMDB rating']=movie_rating\n",
    "movie['Year of release']=year_release\n",
    "movie"
   ]
  },
  {
   "cell_type": "code",
   "execution_count": 9,
   "metadata": {},
   "outputs": [],
   "source": [
    "movie.to_csv (r'C:\\Users\\ashis\\OneDrive\\Desktop\\que2.csv', index = False, header=True)"
   ]
  },
  {
   "cell_type": "markdown",
   "metadata": {},
   "source": [
    "### Que 3. Write a python program to display IMDB’s Top rated 100 Indian movies’ data (i.e. Name, IMDB rating, Year of release) and save it in form of a CSV file. "
   ]
  },
  {
   "cell_type": "code",
   "execution_count": 10,
   "metadata": {},
   "outputs": [
    {
     "data": {
      "text/plain": [
       "<Response [200]>"
      ]
     },
     "execution_count": 10,
     "metadata": {},
     "output_type": "execute_result"
    }
   ],
   "source": [
    "page=requests.get(\"https://www.imdb.com/india/top-rated-indian-movies/\")\n",
    "page"
   ]
  },
  {
   "cell_type": "code",
   "execution_count": 11,
   "metadata": {},
   "outputs": [],
   "source": [
    "soup=BeautifulSoup(page.content)"
   ]
  },
  {
   "cell_type": "code",
   "execution_count": 12,
   "metadata": {},
   "outputs": [],
   "source": [
    "title=soup.find_all('td',class_='titleColumn')\n",
    "movie_title=[]\n",
    "year_release = []\n",
    "j=0\n",
    "for i in range(0,100):\n",
    "    mov = title[i].text.replace(\"\\n\",'')\n",
    "    if(j < 9):\n",
    "        num = 14\n",
    "    else:\n",
    "        num = 15\n",
    "    mov_title = mov[num:]\n",
    "    result = mov_title.index('(')\n",
    "    movie_title.append(mov_title[0:result])\n",
    "    year_release.append(mov_title[result+1:result+5])\n",
    "    j += 1"
   ]
  },
  {
   "cell_type": "code",
   "execution_count": 13,
   "metadata": {},
   "outputs": [],
   "source": [
    "rating=soup.find_all('td',class_='ratingColumn imdbRating')\n",
    "movie_rating=[]\n",
    "for i in range(0,100):\n",
    "    movie_rating.append(rating[i].text.replace(\"\\n\",''))"
   ]
  },
  {
   "cell_type": "code",
   "execution_count": 14,
   "metadata": {},
   "outputs": [
    {
     "data": {
      "text/html": [
       "<div>\n",
       "<style scoped>\n",
       "    .dataframe tbody tr th:only-of-type {\n",
       "        vertical-align: middle;\n",
       "    }\n",
       "\n",
       "    .dataframe tbody tr th {\n",
       "        vertical-align: top;\n",
       "    }\n",
       "\n",
       "    .dataframe thead th {\n",
       "        text-align: right;\n",
       "    }\n",
       "</style>\n",
       "<table border=\"1\" class=\"dataframe\">\n",
       "  <thead>\n",
       "    <tr style=\"text-align: right;\">\n",
       "      <th></th>\n",
       "      <th>Name</th>\n",
       "      <th>IMDB rating</th>\n",
       "      <th>Year of release</th>\n",
       "    </tr>\n",
       "  </thead>\n",
       "  <tbody>\n",
       "    <tr>\n",
       "      <th>0</th>\n",
       "      <td>Pather Panchali</td>\n",
       "      <td>8.5</td>\n",
       "      <td>1955</td>\n",
       "    </tr>\n",
       "    <tr>\n",
       "      <th>1</th>\n",
       "      <td>Gol Maal</td>\n",
       "      <td>8.5</td>\n",
       "      <td>1979</td>\n",
       "    </tr>\n",
       "    <tr>\n",
       "      <th>2</th>\n",
       "      <td>Nayakan</td>\n",
       "      <td>8.5</td>\n",
       "      <td>1987</td>\n",
       "    </tr>\n",
       "    <tr>\n",
       "      <th>3</th>\n",
       "      <td>Anbe Sivam</td>\n",
       "      <td>8.5</td>\n",
       "      <td>2003</td>\n",
       "    </tr>\n",
       "    <tr>\n",
       "      <th>4</th>\n",
       "      <td>Apur Sansar</td>\n",
       "      <td>8.5</td>\n",
       "      <td>1959</td>\n",
       "    </tr>\n",
       "    <tr>\n",
       "      <th>...</th>\n",
       "      <td>...</td>\n",
       "      <td>...</td>\n",
       "      <td>...</td>\n",
       "    </tr>\n",
       "    <tr>\n",
       "      <th>95</th>\n",
       "      <td>The Legend of Bhagat Singh</td>\n",
       "      <td>8.0</td>\n",
       "      <td>2002</td>\n",
       "    </tr>\n",
       "    <tr>\n",
       "      <th>96</th>\n",
       "      <td>Barfi!</td>\n",
       "      <td>8.0</td>\n",
       "      <td>2012</td>\n",
       "    </tr>\n",
       "    <tr>\n",
       "      <th>97</th>\n",
       "      <td>Pink</td>\n",
       "      <td>8.0</td>\n",
       "      <td>2016</td>\n",
       "    </tr>\n",
       "    <tr>\n",
       "      <th>98</th>\n",
       "      <td>Bommarillu</td>\n",
       "      <td>8.0</td>\n",
       "      <td>2006</td>\n",
       "    </tr>\n",
       "    <tr>\n",
       "      <th>99</th>\n",
       "      <td>Bombay</td>\n",
       "      <td>8.0</td>\n",
       "      <td>1995</td>\n",
       "    </tr>\n",
       "  </tbody>\n",
       "</table>\n",
       "<p>100 rows × 3 columns</p>\n",
       "</div>"
      ],
      "text/plain": [
       "                          Name IMDB rating Year of release\n",
       "0              Pather Panchali         8.5            1955\n",
       "1                     Gol Maal         8.5            1979\n",
       "2                      Nayakan         8.5            1987\n",
       "3                   Anbe Sivam         8.5            2003\n",
       "4                  Apur Sansar         8.5            1959\n",
       "..                         ...         ...             ...\n",
       "95  The Legend of Bhagat Singh         8.0            2002\n",
       "96                      Barfi!         8.0            2012\n",
       "97                        Pink         8.0            2016\n",
       "98                  Bommarillu         8.0            2006\n",
       "99                      Bombay         8.0            1995\n",
       "\n",
       "[100 rows x 3 columns]"
      ]
     },
     "execution_count": 14,
     "metadata": {},
     "output_type": "execute_result"
    }
   ],
   "source": [
    "import pandas as pd\n",
    "movie=pd.DataFrame({})\n",
    "movie['Name']=movie_title\n",
    "movie['IMDB rating']=movie_rating\n",
    "movie['Year of release']=year_release\n",
    "movie"
   ]
  },
  {
   "cell_type": "code",
   "execution_count": 15,
   "metadata": {},
   "outputs": [],
   "source": [
    "movie.to_csv (r'C:\\Users\\ashis\\OneDrive\\Desktop\\que3.csv', index = False, header=True)"
   ]
  },
  {
   "cell_type": "markdown",
   "metadata": {},
   "source": [
    "### Que 4. Write a python program to scrap book name, author name, genre and book review of any 5 books from ‘www.bookpage.com’"
   ]
  },
  {
   "cell_type": "code",
   "execution_count": 16,
   "metadata": {},
   "outputs": [
    {
     "data": {
      "text/plain": [
       "<Response [200]>"
      ]
     },
     "execution_count": 16,
     "metadata": {},
     "output_type": "execute_result"
    }
   ],
   "source": [
    "page=requests.get(\"https://bookpage.com/reviews\")\n",
    "page"
   ]
  },
  {
   "cell_type": "code",
   "execution_count": 17,
   "metadata": {},
   "outputs": [],
   "source": [
    "soup=BeautifulSoup(page.content)"
   ]
  },
  {
   "cell_type": "code",
   "execution_count": 18,
   "metadata": {},
   "outputs": [],
   "source": [
    "Name=soup.find_all('h4',class_='italic')\n",
    "book_title=[]\n",
    "for i in Name:\n",
    "    book_title.append(i.text.replace(\"\\n\",''))"
   ]
  },
  {
   "cell_type": "code",
   "execution_count": 19,
   "metadata": {},
   "outputs": [],
   "source": [
    "author=soup.find_all('p',class_='sans bold')\n",
    "book_author=[]\n",
    "for i in author:\n",
    "    book_author.append(i.text.replace(\"\\n\",''))"
   ]
  },
  {
   "cell_type": "code",
   "execution_count": 20,
   "metadata": {},
   "outputs": [],
   "source": [
    "genre=soup.find_all('p',class_='genre-links hidden-phone')\n",
    "genre_title=[]\n",
    "for i in genre:\n",
    "    genre_title.append(i.text.replace(\"\\n\",''))"
   ]
  },
  {
   "cell_type": "code",
   "execution_count": 21,
   "metadata": {},
   "outputs": [],
   "source": [
    "review=soup.find_all('div',class_='flex-article-content')\n",
    "book_review=[]\n",
    "for i in range(0,10):\n",
    "    des1 = review[i].text.replace(\"\\n\",'')\n",
    "    des2 = des1.find(genre_title[i])\n",
    "    length = len(genre_title[i])\n",
    "    book_review.append(des1[des2+length:])"
   ]
  },
  {
   "cell_type": "code",
   "execution_count": 22,
   "metadata": {},
   "outputs": [
    {
     "data": {
      "text/html": [
       "<div>\n",
       "<style scoped>\n",
       "    .dataframe tbody tr th:only-of-type {\n",
       "        vertical-align: middle;\n",
       "    }\n",
       "\n",
       "    .dataframe tbody tr th {\n",
       "        vertical-align: top;\n",
       "    }\n",
       "\n",
       "    .dataframe thead th {\n",
       "        text-align: right;\n",
       "    }\n",
       "</style>\n",
       "<table border=\"1\" class=\"dataframe\">\n",
       "  <thead>\n",
       "    <tr style=\"text-align: right;\">\n",
       "      <th></th>\n",
       "      <th>Book Name</th>\n",
       "      <th>Author Name</th>\n",
       "      <th>Genre</th>\n",
       "      <th>Book Review</th>\n",
       "    </tr>\n",
       "  </thead>\n",
       "  <tbody>\n",
       "    <tr>\n",
       "      <th>0</th>\n",
       "      <td>Everybody</td>\n",
       "      <td>Olivia Laing</td>\n",
       "      <td>Nonfiction / Body, Mind &amp; Spirit / Philosophy</td>\n",
       "      <td>Olivia Laing casts a breathtakingly, ambitious...</td>\n",
       "    </tr>\n",
       "    <tr>\n",
       "      <th>1</th>\n",
       "      <td>★ Black Water Sister</td>\n",
       "      <td>Zen Cho</td>\n",
       "      <td>Science Fiction &amp; Fantasy / Fantasy</td>\n",
       "      <td>Sometimes a book makes you forget everything: ...</td>\n",
       "    </tr>\n",
       "    <tr>\n",
       "      <th>2</th>\n",
       "      <td>Luck of the Titanic</td>\n",
       "      <td>Stacey Lee</td>\n",
       "      <td>YA / YA Fiction</td>\n",
       "      <td>Stacey Lee has earned critical acclaim and a l...</td>\n",
       "    </tr>\n",
       "    <tr>\n",
       "      <th>3</th>\n",
       "      <td>Negative Space</td>\n",
       "      <td>Lilly Dancyger</td>\n",
       "      <td>Nonfiction / Memoir / Art</td>\n",
       "      <td>Lilly Dancyger sets out to uncover the whole t...</td>\n",
       "    </tr>\n",
       "    <tr>\n",
       "      <th>4</th>\n",
       "      <td>★ Have You Ever Seen a Flower?</td>\n",
       "      <td>Shawn Harris</td>\n",
       "      <td>Children's / Children's Picture Book</td>\n",
       "      <td>Some books offer a chance to escape, while oth...</td>\n",
       "    </tr>\n",
       "    <tr>\n",
       "      <th>5</th>\n",
       "      <td>★ The Sum of Us</td>\n",
       "      <td>Heather McGhee</td>\n",
       "      <td>Audio / Nonfiction / Social Science</td>\n",
       "      <td>Heather McGhee, who narrates the audiobook for...</td>\n",
       "    </tr>\n",
       "    <tr>\n",
       "      <th>6</th>\n",
       "      <td>We Begin at the End</td>\n",
       "      <td>Chris Whitaker, George Newbern</td>\n",
       "      <td>Audio / Fiction / Crime Fiction</td>\n",
       "      <td>American actor George Newbern’s clear, unhurri...</td>\n",
       "    </tr>\n",
       "    <tr>\n",
       "      <th>7</th>\n",
       "      <td>★ Stranger Care</td>\n",
       "      <td>Sarah Sentilles</td>\n",
       "      <td>Nonfiction / Memoir / Parenting</td>\n",
       "      <td>Sarah Sentilles lifts her story of foster pare...</td>\n",
       "    </tr>\n",
       "    <tr>\n",
       "      <th>8</th>\n",
       "      <td>The Ones We're Meant to Find</td>\n",
       "      <td>Joan He</td>\n",
       "      <td>YA / YA Fiction</td>\n",
       "      <td>Cee has been alone on a remote island for thre...</td>\n",
       "    </tr>\n",
       "    <tr>\n",
       "      <th>9</th>\n",
       "      <td>AMORALMAN</td>\n",
       "      <td>David DelGaudio</td>\n",
       "      <td>Audio / Nonfiction / Biography &amp; Memoir</td>\n",
       "      <td>A magician never reveals their tricks, but for...</td>\n",
       "    </tr>\n",
       "  </tbody>\n",
       "</table>\n",
       "</div>"
      ],
      "text/plain": [
       "                         Book Name                     Author Name  \\\n",
       "0                        Everybody                    Olivia Laing   \n",
       "1             ★ Black Water Sister                         Zen Cho   \n",
       "2              Luck of the Titanic                      Stacey Lee   \n",
       "3                   Negative Space                  Lilly Dancyger   \n",
       "4   ★ Have You Ever Seen a Flower?                    Shawn Harris   \n",
       "5                  ★ The Sum of Us                  Heather McGhee   \n",
       "6              We Begin at the End  Chris Whitaker, George Newbern   \n",
       "7                  ★ Stranger Care                 Sarah Sentilles   \n",
       "8     The Ones We're Meant to Find                         Joan He   \n",
       "9                        AMORALMAN                 David DelGaudio   \n",
       "\n",
       "                                           Genre  \\\n",
       "0  Nonfiction / Body, Mind & Spirit / Philosophy   \n",
       "1            Science Fiction & Fantasy / Fantasy   \n",
       "2                                YA / YA Fiction   \n",
       "3                      Nonfiction / Memoir / Art   \n",
       "4           Children's / Children's Picture Book   \n",
       "5            Audio / Nonfiction / Social Science   \n",
       "6                Audio / Fiction / Crime Fiction   \n",
       "7                Nonfiction / Memoir / Parenting   \n",
       "8                                YA / YA Fiction   \n",
       "9        Audio / Nonfiction / Biography & Memoir   \n",
       "\n",
       "                                         Book Review  \n",
       "0  Olivia Laing casts a breathtakingly, ambitious...  \n",
       "1  Sometimes a book makes you forget everything: ...  \n",
       "2  Stacey Lee has earned critical acclaim and a l...  \n",
       "3  Lilly Dancyger sets out to uncover the whole t...  \n",
       "4  Some books offer a chance to escape, while oth...  \n",
       "5  Heather McGhee, who narrates the audiobook for...  \n",
       "6  American actor George Newbern’s clear, unhurri...  \n",
       "7  Sarah Sentilles lifts her story of foster pare...  \n",
       "8  Cee has been alone on a remote island for thre...  \n",
       "9  A magician never reveals their tricks, but for...  "
      ]
     },
     "execution_count": 22,
     "metadata": {},
     "output_type": "execute_result"
    }
   ],
   "source": [
    "import pandas as pd\n",
    "Book=pd.DataFrame({})\n",
    "Book['Book Name']=book_title\n",
    "Book['Author Name']=book_author\n",
    "Book['Genre']=genre_title\n",
    "Book['Book Review']=book_review\n",
    "Book"
   ]
  },
  {
   "cell_type": "markdown",
   "metadata": {},
   "source": [
    "### Que 5(i). Write a python program to scrape cricket rankings from ‘www.icc-cricket.com’. You have to scrape.     Top 10 ODI teams in men’s cricket along with the records for matches, points and rating."
   ]
  },
  {
   "cell_type": "code",
   "execution_count": 23,
   "metadata": {},
   "outputs": [
    {
     "data": {
      "text/plain": [
       "<Response [200]>"
      ]
     },
     "execution_count": 23,
     "metadata": {},
     "output_type": "execute_result"
    }
   ],
   "source": [
    "page=requests.get(\"https://www.icc-cricket.com/rankings/mens/team-rankings/odi\")\n",
    "page"
   ]
  },
  {
   "cell_type": "code",
   "execution_count": 24,
   "metadata": {},
   "outputs": [],
   "source": [
    "soup=BeautifulSoup(page.content)"
   ]
  },
  {
   "cell_type": "code",
   "execution_count": 25,
   "metadata": {},
   "outputs": [],
   "source": [
    "team=soup.find_all('span',class_='u-hide-phablet')\n",
    "team_name=[]\n",
    "for i in range(0,10):\n",
    "    team_name.append(team[i].text.replace(\"\\n\",''))"
   ]
  },
  {
   "cell_type": "code",
   "execution_count": 26,
   "metadata": {},
   "outputs": [],
   "source": [
    "match=soup.find_all('td',class_='rankings-block__banner--matches')\n",
    "team_match=[]\n",
    "for i in range(0,1):\n",
    "    team_match.append(match[i].text.replace(\"\\n\",''))"
   ]
  },
  {
   "cell_type": "code",
   "execution_count": 27,
   "metadata": {},
   "outputs": [],
   "source": [
    "match=soup.find_all('td',class_='table-body__cell u-center-text')\n",
    "for i in range(0,18,2):\n",
    "    team_match.append(match[i].text.replace(\"\\n\",''))"
   ]
  },
  {
   "cell_type": "code",
   "execution_count": 28,
   "metadata": {},
   "outputs": [],
   "source": [
    "rating=soup.find_all('td',class_='rankings-block__banner--points')\n",
    "team_rating=[]\n",
    "for i in range(0,1):\n",
    "    team_rating.append(rating[i].text.replace(\"\\n\",''))"
   ]
  },
  {
   "cell_type": "code",
   "execution_count": 29,
   "metadata": {},
   "outputs": [],
   "source": [
    "rating=soup.find_all('td',class_='table-body__cell u-center-text')\n",
    "for i in range(1,19,2):\n",
    "    team_rating.append(rating[i].text.replace(\"\\n\",''))"
   ]
  },
  {
   "cell_type": "code",
   "execution_count": 30,
   "metadata": {},
   "outputs": [],
   "source": [
    "point=soup.find_all('td',class_='rankings-block__banner--rating u-text-right')\n",
    "team_point=[]\n",
    "for i in range(0,1):\n",
    "    team_point.append(point[i].text.replace(\" \",'').replace(\"\\n\",''))"
   ]
  },
  {
   "cell_type": "code",
   "execution_count": 31,
   "metadata": {},
   "outputs": [],
   "source": [
    "point=soup.find_all('td',class_='table-body__cell u-text-right rating')\n",
    "for i in range(0,9):\n",
    "    team_point.append(point[i].text.replace(\"\\n\",''))"
   ]
  },
  {
   "cell_type": "code",
   "execution_count": 32,
   "metadata": {},
   "outputs": [
    {
     "data": {
      "text/html": [
       "<div>\n",
       "<style scoped>\n",
       "    .dataframe tbody tr th:only-of-type {\n",
       "        vertical-align: middle;\n",
       "    }\n",
       "\n",
       "    .dataframe tbody tr th {\n",
       "        vertical-align: top;\n",
       "    }\n",
       "\n",
       "    .dataframe thead th {\n",
       "        text-align: right;\n",
       "    }\n",
       "</style>\n",
       "<table border=\"1\" class=\"dataframe\">\n",
       "  <thead>\n",
       "    <tr style=\"text-align: right;\">\n",
       "      <th></th>\n",
       "      <th>Team Name</th>\n",
       "      <th>Matches</th>\n",
       "      <th>Rating</th>\n",
       "      <th>Points</th>\n",
       "    </tr>\n",
       "  </thead>\n",
       "  <tbody>\n",
       "    <tr>\n",
       "      <th>0</th>\n",
       "      <td>England</td>\n",
       "      <td>47</td>\n",
       "      <td>5,708</td>\n",
       "      <td>121</td>\n",
       "    </tr>\n",
       "    <tr>\n",
       "      <th>1</th>\n",
       "      <td>India</td>\n",
       "      <td>55</td>\n",
       "      <td>6,520</td>\n",
       "      <td>119</td>\n",
       "    </tr>\n",
       "    <tr>\n",
       "      <th>2</th>\n",
       "      <td>New Zealand</td>\n",
       "      <td>35</td>\n",
       "      <td>4,137</td>\n",
       "      <td>118</td>\n",
       "    </tr>\n",
       "    <tr>\n",
       "      <th>3</th>\n",
       "      <td>Australia</td>\n",
       "      <td>39</td>\n",
       "      <td>4,344</td>\n",
       "      <td>111</td>\n",
       "    </tr>\n",
       "    <tr>\n",
       "      <th>4</th>\n",
       "      <td>South Africa</td>\n",
       "      <td>34</td>\n",
       "      <td>3,596</td>\n",
       "      <td>106</td>\n",
       "    </tr>\n",
       "    <tr>\n",
       "      <th>5</th>\n",
       "      <td>Pakistan</td>\n",
       "      <td>38</td>\n",
       "      <td>3,861</td>\n",
       "      <td>102</td>\n",
       "    </tr>\n",
       "    <tr>\n",
       "      <th>6</th>\n",
       "      <td>Bangladesh</td>\n",
       "      <td>40</td>\n",
       "      <td>3,567</td>\n",
       "      <td>89</td>\n",
       "    </tr>\n",
       "    <tr>\n",
       "      <th>7</th>\n",
       "      <td>Sri Lanka</td>\n",
       "      <td>42</td>\n",
       "      <td>3,372</td>\n",
       "      <td>80</td>\n",
       "    </tr>\n",
       "    <tr>\n",
       "      <th>8</th>\n",
       "      <td>West Indies</td>\n",
       "      <td>49</td>\n",
       "      <td>3,802</td>\n",
       "      <td>78</td>\n",
       "    </tr>\n",
       "    <tr>\n",
       "      <th>9</th>\n",
       "      <td>Afghanistan</td>\n",
       "      <td>31</td>\n",
       "      <td>1,844</td>\n",
       "      <td>59</td>\n",
       "    </tr>\n",
       "  </tbody>\n",
       "</table>\n",
       "</div>"
      ],
      "text/plain": [
       "      Team Name Matches Rating Points\n",
       "0       England      47  5,708    121\n",
       "1         India      55  6,520    119\n",
       "2   New Zealand      35  4,137    118\n",
       "3     Australia      39  4,344    111\n",
       "4  South Africa      34  3,596    106\n",
       "5      Pakistan      38  3,861    102\n",
       "6    Bangladesh      40  3,567     89\n",
       "7     Sri Lanka      42  3,372     80\n",
       "8   West Indies      49  3,802     78\n",
       "9   Afghanistan      31  1,844     59"
      ]
     },
     "execution_count": 32,
     "metadata": {},
     "output_type": "execute_result"
    }
   ],
   "source": [
    "import pandas as pd\n",
    "ODI=pd.DataFrame({})\n",
    "ODI['Team Name'] = team_name\n",
    "ODI['Matches']   = team_match\n",
    "ODI['Rating']    = team_rating\n",
    "ODI['Points']    = team_point\n",
    "ODI"
   ]
  },
  {
   "cell_type": "markdown",
   "metadata": {},
   "source": [
    "### Que 5(ii). Top 10 ODI Batsmen in men along with the records of their team and rating. "
   ]
  },
  {
   "cell_type": "code",
   "execution_count": 33,
   "metadata": {},
   "outputs": [
    {
     "data": {
      "text/plain": [
       "<Response [200]>"
      ]
     },
     "execution_count": 33,
     "metadata": {},
     "output_type": "execute_result"
    }
   ],
   "source": [
    "page=requests.get(\"https://www.icc-cricket.com/rankings/mens/player-rankings/odi\")\n",
    "page"
   ]
  },
  {
   "cell_type": "code",
   "execution_count": 34,
   "metadata": {},
   "outputs": [],
   "source": [
    "soup=BeautifulSoup(page.content)"
   ]
  },
  {
   "cell_type": "code",
   "execution_count": 35,
   "metadata": {},
   "outputs": [],
   "source": [
    "player=soup.find_all('div',class_='rankings-block__banner--name')\n",
    "player_name=[]\n",
    "for i in range(0,1):\n",
    "    player_name.append(player[i].text.replace(\"\\n\",''))"
   ]
  },
  {
   "cell_type": "code",
   "execution_count": 36,
   "metadata": {},
   "outputs": [],
   "source": [
    "match=soup.find_all('td',class_='table-body__cell name')\n",
    "for i in range(0,9):\n",
    "    player_name.append(match[i].text.replace(\"\\n\",''))"
   ]
  },
  {
   "cell_type": "code",
   "execution_count": 37,
   "metadata": {},
   "outputs": [],
   "source": [
    "team=soup.find_all('div',class_='rankings-block__banner--nationality')\n",
    "team_name=[]\n",
    "for i in range(0,1):\n",
    "    team_name.append(team[i].text.replace(\"\\n\",'')[:3])"
   ]
  },
  {
   "cell_type": "code",
   "execution_count": 38,
   "metadata": {},
   "outputs": [],
   "source": [
    "team=soup.find_all('span',class_='table-body__logo-text')\n",
    "for i in range(0,9):\n",
    "    team_name.append(team[i].text.replace(\"\\n\",''))"
   ]
  },
  {
   "cell_type": "code",
   "execution_count": 39,
   "metadata": {},
   "outputs": [],
   "source": [
    "rating=soup.find_all('div',class_='rankings-block__banner--nationality')\n",
    "player_rating=[]\n",
    "for i in range(0,1):\n",
    "    player_rating.append(rating[i].text.replace(\"\\n\",'')[-3:])"
   ]
  },
  {
   "cell_type": "code",
   "execution_count": 40,
   "metadata": {},
   "outputs": [],
   "source": [
    "rating=soup.find_all('td',class_='table-body__cell u-text-right rating')\n",
    "for i in range(0,9):\n",
    "    player_rating.append(rating[i].text.replace(\"\\n\",''))"
   ]
  },
  {
   "cell_type": "code",
   "execution_count": 41,
   "metadata": {},
   "outputs": [
    {
     "data": {
      "text/html": [
       "<div>\n",
       "<style scoped>\n",
       "    .dataframe tbody tr th:only-of-type {\n",
       "        vertical-align: middle;\n",
       "    }\n",
       "\n",
       "    .dataframe tbody tr th {\n",
       "        vertical-align: top;\n",
       "    }\n",
       "\n",
       "    .dataframe thead th {\n",
       "        text-align: right;\n",
       "    }\n",
       "</style>\n",
       "<table border=\"1\" class=\"dataframe\">\n",
       "  <thead>\n",
       "    <tr style=\"text-align: right;\">\n",
       "      <th></th>\n",
       "      <th>Player Name</th>\n",
       "      <th>Team</th>\n",
       "      <th>Rating</th>\n",
       "    </tr>\n",
       "  </thead>\n",
       "  <tbody>\n",
       "    <tr>\n",
       "      <th>0</th>\n",
       "      <td>Babar Azam</td>\n",
       "      <td>PAK</td>\n",
       "      <td>865</td>\n",
       "    </tr>\n",
       "    <tr>\n",
       "      <th>1</th>\n",
       "      <td>Virat Kohli</td>\n",
       "      <td>IND</td>\n",
       "      <td>857</td>\n",
       "    </tr>\n",
       "    <tr>\n",
       "      <th>2</th>\n",
       "      <td>Rohit Sharma</td>\n",
       "      <td>IND</td>\n",
       "      <td>825</td>\n",
       "    </tr>\n",
       "    <tr>\n",
       "      <th>3</th>\n",
       "      <td>Ross Taylor</td>\n",
       "      <td>NZ</td>\n",
       "      <td>801</td>\n",
       "    </tr>\n",
       "    <tr>\n",
       "      <th>4</th>\n",
       "      <td>Aaron Finch</td>\n",
       "      <td>AUS</td>\n",
       "      <td>791</td>\n",
       "    </tr>\n",
       "    <tr>\n",
       "      <th>5</th>\n",
       "      <td>Jonny Bairstow</td>\n",
       "      <td>ENG</td>\n",
       "      <td>785</td>\n",
       "    </tr>\n",
       "    <tr>\n",
       "      <th>6</th>\n",
       "      <td>Fakhar Zaman</td>\n",
       "      <td>PAK</td>\n",
       "      <td>778</td>\n",
       "    </tr>\n",
       "    <tr>\n",
       "      <th>7</th>\n",
       "      <td>Francois du Plessis</td>\n",
       "      <td>SA</td>\n",
       "      <td>778</td>\n",
       "    </tr>\n",
       "    <tr>\n",
       "      <th>8</th>\n",
       "      <td>David Warner</td>\n",
       "      <td>AUS</td>\n",
       "      <td>773</td>\n",
       "    </tr>\n",
       "    <tr>\n",
       "      <th>9</th>\n",
       "      <td>Shai Hope</td>\n",
       "      <td>WI</td>\n",
       "      <td>773</td>\n",
       "    </tr>\n",
       "  </tbody>\n",
       "</table>\n",
       "</div>"
      ],
      "text/plain": [
       "           Player Name Team Rating\n",
       "0           Babar Azam  PAK    865\n",
       "1          Virat Kohli  IND    857\n",
       "2         Rohit Sharma  IND    825\n",
       "3          Ross Taylor   NZ    801\n",
       "4          Aaron Finch  AUS    791\n",
       "5       Jonny Bairstow  ENG    785\n",
       "6         Fakhar Zaman  PAK    778\n",
       "7  Francois du Plessis   SA    778\n",
       "8         David Warner  AUS    773\n",
       "9            Shai Hope   WI    773"
      ]
     },
     "execution_count": 41,
     "metadata": {},
     "output_type": "execute_result"
    }
   ],
   "source": [
    "import pandas as pd\n",
    "Player=pd.DataFrame({})\n",
    "Player['Player Name'] = player_name\n",
    "Player['Team']   = team_name\n",
    "Player['Rating']    = player_rating\n",
    "Player"
   ]
  },
  {
   "cell_type": "markdown",
   "metadata": {},
   "source": [
    "### Que 5(iii). Top 10 ODI bowlers along with the records of their team and rating."
   ]
  },
  {
   "cell_type": "code",
   "execution_count": 42,
   "metadata": {},
   "outputs": [
    {
     "data": {
      "text/plain": [
       "<Response [200]>"
      ]
     },
     "execution_count": 42,
     "metadata": {},
     "output_type": "execute_result"
    }
   ],
   "source": [
    "page=requests.get(\"https://www.icc-cricket.com/rankings/mens/player-rankings/odi\")\n",
    "page"
   ]
  },
  {
   "cell_type": "code",
   "execution_count": 43,
   "metadata": {},
   "outputs": [],
   "source": [
    "soup=BeautifulSoup(page.content)"
   ]
  },
  {
   "cell_type": "code",
   "execution_count": 44,
   "metadata": {},
   "outputs": [],
   "source": [
    "player=soup.find_all('div',class_='rankings-block__banner--name')\n",
    "player_name=[]\n",
    "for i in range(1,2):\n",
    "    player_name.append(player[i].text.replace(\"\\n\",''))"
   ]
  },
  {
   "cell_type": "code",
   "execution_count": 45,
   "metadata": {},
   "outputs": [],
   "source": [
    "match=soup.find_all('td',class_='table-body__cell name')\n",
    "for i in range(9,18):\n",
    "    player_name.append(match[i].text.replace(\"\\n\",''))"
   ]
  },
  {
   "cell_type": "code",
   "execution_count": 46,
   "metadata": {},
   "outputs": [],
   "source": [
    "team=soup.find_all('div',class_='rankings-block__banner--nationality')\n",
    "team_name=[]\n",
    "for i in range(1,2):\n",
    "    team_name.append(team[i].text.replace(\"\\n\",'')[:3])"
   ]
  },
  {
   "cell_type": "code",
   "execution_count": 47,
   "metadata": {},
   "outputs": [],
   "source": [
    "team=soup.find_all('span',class_='table-body__logo-text')\n",
    "for i in range(9,18):\n",
    "    team_name.append(team[i].text.replace(\"\\n\",''))"
   ]
  },
  {
   "cell_type": "code",
   "execution_count": 48,
   "metadata": {},
   "outputs": [],
   "source": [
    "rating=soup.find_all('div',class_='rankings-block__banner--nationality')\n",
    "player_rating=[]\n",
    "for i in range(1,2):\n",
    "    player_rating.append(rating[i].text.replace(\"\\n\",'')[-3:])"
   ]
  },
  {
   "cell_type": "code",
   "execution_count": 49,
   "metadata": {},
   "outputs": [],
   "source": [
    "rating=soup.find_all('td',class_='table-body__cell u-text-right rating')\n",
    "for i in range(9,18):\n",
    "    player_rating.append(rating[i].text.replace(\"\\n\",''))"
   ]
  },
  {
   "cell_type": "code",
   "execution_count": 50,
   "metadata": {},
   "outputs": [
    {
     "data": {
      "text/html": [
       "<div>\n",
       "<style scoped>\n",
       "    .dataframe tbody tr th:only-of-type {\n",
       "        vertical-align: middle;\n",
       "    }\n",
       "\n",
       "    .dataframe tbody tr th {\n",
       "        vertical-align: top;\n",
       "    }\n",
       "\n",
       "    .dataframe thead th {\n",
       "        text-align: right;\n",
       "    }\n",
       "</style>\n",
       "<table border=\"1\" class=\"dataframe\">\n",
       "  <thead>\n",
       "    <tr style=\"text-align: right;\">\n",
       "      <th></th>\n",
       "      <th>Player Name</th>\n",
       "      <th>Team</th>\n",
       "      <th>Rating</th>\n",
       "    </tr>\n",
       "  </thead>\n",
       "  <tbody>\n",
       "    <tr>\n",
       "      <th>0</th>\n",
       "      <td>Trent Boult</td>\n",
       "      <td>NZ</td>\n",
       "      <td>737</td>\n",
       "    </tr>\n",
       "    <tr>\n",
       "      <th>1</th>\n",
       "      <td>Mujeeb Ur Rahman</td>\n",
       "      <td>AFG</td>\n",
       "      <td>708</td>\n",
       "    </tr>\n",
       "    <tr>\n",
       "      <th>2</th>\n",
       "      <td>Matt Henry</td>\n",
       "      <td>NZ</td>\n",
       "      <td>691</td>\n",
       "    </tr>\n",
       "    <tr>\n",
       "      <th>3</th>\n",
       "      <td>Jasprit Bumrah</td>\n",
       "      <td>IND</td>\n",
       "      <td>690</td>\n",
       "    </tr>\n",
       "    <tr>\n",
       "      <th>4</th>\n",
       "      <td>Mehedi Hasan</td>\n",
       "      <td>BAN</td>\n",
       "      <td>668</td>\n",
       "    </tr>\n",
       "    <tr>\n",
       "      <th>5</th>\n",
       "      <td>Kagiso Rabada</td>\n",
       "      <td>SA</td>\n",
       "      <td>666</td>\n",
       "    </tr>\n",
       "    <tr>\n",
       "      <th>6</th>\n",
       "      <td>Chris Woakes</td>\n",
       "      <td>ENG</td>\n",
       "      <td>665</td>\n",
       "    </tr>\n",
       "    <tr>\n",
       "      <th>7</th>\n",
       "      <td>Josh Hazlewood</td>\n",
       "      <td>AUS</td>\n",
       "      <td>660</td>\n",
       "    </tr>\n",
       "    <tr>\n",
       "      <th>8</th>\n",
       "      <td>Pat Cummins</td>\n",
       "      <td>AUS</td>\n",
       "      <td>646</td>\n",
       "    </tr>\n",
       "    <tr>\n",
       "      <th>9</th>\n",
       "      <td>Mohammad Amir</td>\n",
       "      <td>PAK</td>\n",
       "      <td>638</td>\n",
       "    </tr>\n",
       "  </tbody>\n",
       "</table>\n",
       "</div>"
      ],
      "text/plain": [
       "        Player Name Team Rating\n",
       "0       Trent Boult  NZ     737\n",
       "1  Mujeeb Ur Rahman  AFG    708\n",
       "2        Matt Henry   NZ    691\n",
       "3    Jasprit Bumrah  IND    690\n",
       "4      Mehedi Hasan  BAN    668\n",
       "5     Kagiso Rabada   SA    666\n",
       "6      Chris Woakes  ENG    665\n",
       "7    Josh Hazlewood  AUS    660\n",
       "8       Pat Cummins  AUS    646\n",
       "9     Mohammad Amir  PAK    638"
      ]
     },
     "execution_count": 50,
     "metadata": {},
     "output_type": "execute_result"
    }
   ],
   "source": [
    "import pandas as pd\n",
    "Player=pd.DataFrame({})\n",
    "Player['Player Name'] = player_name\n",
    "Player['Team']   = team_name\n",
    "Player['Rating']    = player_rating\n",
    "Player"
   ]
  },
  {
   "cell_type": "markdown",
   "metadata": {},
   "source": [
    "### Que 6(i). Write a python program to scrape cricket rankings from ‘www.icc-cricket.com’. You have to scrape. Top 10 ODI teams in women’s cricket along with the records for matches, points and rating. "
   ]
  },
  {
   "cell_type": "code",
   "execution_count": 51,
   "metadata": {},
   "outputs": [
    {
     "data": {
      "text/plain": [
       "<Response [200]>"
      ]
     },
     "execution_count": 51,
     "metadata": {},
     "output_type": "execute_result"
    }
   ],
   "source": [
    "page=requests.get(\"https://www.icc-cricket.com/rankings/womens/team-rankings/odi\")\n",
    "page"
   ]
  },
  {
   "cell_type": "code",
   "execution_count": 52,
   "metadata": {},
   "outputs": [],
   "source": [
    "soup=BeautifulSoup(page.content)"
   ]
  },
  {
   "cell_type": "code",
   "execution_count": 53,
   "metadata": {},
   "outputs": [],
   "source": [
    "team=soup.find_all('span',class_='u-hide-phablet')\n",
    "team_name=[]\n",
    "for i in range(0,10):\n",
    "    team_name.append(team[i].text.replace(\"\\n\",''))"
   ]
  },
  {
   "cell_type": "code",
   "execution_count": 54,
   "metadata": {},
   "outputs": [],
   "source": [
    "match=soup.find_all('td',class_='rankings-block__banner--matches')\n",
    "team_match=[]\n",
    "for i in range(0,1):\n",
    "    team_match.append(match[i].text.replace(\"\\n\",''))"
   ]
  },
  {
   "cell_type": "code",
   "execution_count": 55,
   "metadata": {},
   "outputs": [],
   "source": [
    "match=soup.find_all('td',class_='table-body__cell u-center-text')\n",
    "for i in range(0,18,2):\n",
    "    team_match.append(match[i].text.replace(\"\\n\",''))"
   ]
  },
  {
   "cell_type": "code",
   "execution_count": 56,
   "metadata": {},
   "outputs": [],
   "source": [
    "rating=soup.find_all('td',class_='rankings-block__banner--points')\n",
    "team_rating=[]\n",
    "for i in range(0,1):\n",
    "    team_rating.append(rating[i].text.replace(\"\\n\",''))"
   ]
  },
  {
   "cell_type": "code",
   "execution_count": 57,
   "metadata": {},
   "outputs": [],
   "source": [
    "rating=soup.find_all('td',class_='table-body__cell u-center-text')\n",
    "for i in range(1,19,2):\n",
    "    team_rating.append(rating[i].text.replace(\"\\n\",''))"
   ]
  },
  {
   "cell_type": "code",
   "execution_count": 58,
   "metadata": {},
   "outputs": [],
   "source": [
    "point=soup.find_all('td',class_='rankings-block__banner--rating u-text-right')\n",
    "team_point=[]\n",
    "for i in range(0,1):\n",
    "    team_point.append(point[i].text.replace(\" \",'').replace(\"\\n\",''))"
   ]
  },
  {
   "cell_type": "code",
   "execution_count": 59,
   "metadata": {},
   "outputs": [],
   "source": [
    "point=soup.find_all('td',class_='table-body__cell u-text-right rating')\n",
    "for i in range(0,9):\n",
    "    team_point.append(point[i].text.replace(\"\\n\",''))"
   ]
  },
  {
   "cell_type": "code",
   "execution_count": 60,
   "metadata": {},
   "outputs": [
    {
     "data": {
      "text/html": [
       "<div>\n",
       "<style scoped>\n",
       "    .dataframe tbody tr th:only-of-type {\n",
       "        vertical-align: middle;\n",
       "    }\n",
       "\n",
       "    .dataframe tbody tr th {\n",
       "        vertical-align: top;\n",
       "    }\n",
       "\n",
       "    .dataframe thead th {\n",
       "        text-align: right;\n",
       "    }\n",
       "</style>\n",
       "<table border=\"1\" class=\"dataframe\">\n",
       "  <thead>\n",
       "    <tr style=\"text-align: right;\">\n",
       "      <th></th>\n",
       "      <th>Team Name</th>\n",
       "      <th>Matches</th>\n",
       "      <th>Rating</th>\n",
       "      <th>Points</th>\n",
       "    </tr>\n",
       "  </thead>\n",
       "  <tbody>\n",
       "    <tr>\n",
       "      <th>0</th>\n",
       "      <td>Australia</td>\n",
       "      <td>18</td>\n",
       "      <td>2,955</td>\n",
       "      <td>164</td>\n",
       "    </tr>\n",
       "    <tr>\n",
       "      <th>1</th>\n",
       "      <td>South Africa</td>\n",
       "      <td>24</td>\n",
       "      <td>2,828</td>\n",
       "      <td>118</td>\n",
       "    </tr>\n",
       "    <tr>\n",
       "      <th>2</th>\n",
       "      <td>England</td>\n",
       "      <td>17</td>\n",
       "      <td>1,993</td>\n",
       "      <td>117</td>\n",
       "    </tr>\n",
       "    <tr>\n",
       "      <th>3</th>\n",
       "      <td>India</td>\n",
       "      <td>20</td>\n",
       "      <td>2,226</td>\n",
       "      <td>111</td>\n",
       "    </tr>\n",
       "    <tr>\n",
       "      <th>4</th>\n",
       "      <td>New Zealand</td>\n",
       "      <td>21</td>\n",
       "      <td>1,947</td>\n",
       "      <td>93</td>\n",
       "    </tr>\n",
       "    <tr>\n",
       "      <th>5</th>\n",
       "      <td>West Indies</td>\n",
       "      <td>12</td>\n",
       "      <td>1,025</td>\n",
       "      <td>85</td>\n",
       "    </tr>\n",
       "    <tr>\n",
       "      <th>6</th>\n",
       "      <td>Pakistan</td>\n",
       "      <td>15</td>\n",
       "      <td>1,101</td>\n",
       "      <td>73</td>\n",
       "    </tr>\n",
       "    <tr>\n",
       "      <th>7</th>\n",
       "      <td>Bangladesh</td>\n",
       "      <td>5</td>\n",
       "      <td>306</td>\n",
       "      <td>61</td>\n",
       "    </tr>\n",
       "    <tr>\n",
       "      <th>8</th>\n",
       "      <td>Sri Lanka</td>\n",
       "      <td>11</td>\n",
       "      <td>519</td>\n",
       "      <td>47</td>\n",
       "    </tr>\n",
       "    <tr>\n",
       "      <th>9</th>\n",
       "      <td>Ireland</td>\n",
       "      <td>2</td>\n",
       "      <td>25</td>\n",
       "      <td>13</td>\n",
       "    </tr>\n",
       "  </tbody>\n",
       "</table>\n",
       "</div>"
      ],
      "text/plain": [
       "      Team Name Matches Rating Points\n",
       "0     Australia      18  2,955    164\n",
       "1  South Africa      24  2,828    118\n",
       "2       England      17  1,993    117\n",
       "3         India      20  2,226    111\n",
       "4   New Zealand      21  1,947     93\n",
       "5   West Indies      12  1,025     85\n",
       "6      Pakistan      15  1,101     73\n",
       "7    Bangladesh       5    306     61\n",
       "8     Sri Lanka      11    519     47\n",
       "9       Ireland       2     25     13"
      ]
     },
     "execution_count": 60,
     "metadata": {},
     "output_type": "execute_result"
    }
   ],
   "source": [
    "import pandas as pd\n",
    "ODI=pd.DataFrame({})\n",
    "ODI['Team Name'] = team_name\n",
    "ODI['Matches']   = team_match\n",
    "ODI['Rating']    = team_rating\n",
    "ODI['Points']    = team_point\n",
    "ODI"
   ]
  },
  {
   "cell_type": "markdown",
   "metadata": {},
   "source": [
    "### Que 6(ii). Top 10 women’s ODI players along with the records of their team and rating. "
   ]
  },
  {
   "cell_type": "code",
   "execution_count": 61,
   "metadata": {},
   "outputs": [
    {
     "data": {
      "text/plain": [
       "<Response [200]>"
      ]
     },
     "execution_count": 61,
     "metadata": {},
     "output_type": "execute_result"
    }
   ],
   "source": [
    "page=requests.get(\"https://www.icc-cricket.com/rankings/womens/player-rankings/odi/batting\")\n",
    "page"
   ]
  },
  {
   "cell_type": "code",
   "execution_count": 62,
   "metadata": {},
   "outputs": [],
   "source": [
    "soup=BeautifulSoup(page.content)"
   ]
  },
  {
   "cell_type": "code",
   "execution_count": 63,
   "metadata": {},
   "outputs": [],
   "source": [
    "player=soup.find_all('div',class_='rankings-block__banner--name-large')\n",
    "player_name=[]\n",
    "for i in range(0,1):\n",
    "    player_name.append(player[i].text.replace(\"\\n\",''))"
   ]
  },
  {
   "cell_type": "code",
   "execution_count": 64,
   "metadata": {},
   "outputs": [],
   "source": [
    "match=soup.find_all('td',class_='table-body__cell rankings-table__name name')\n",
    "for i in range(0,9):\n",
    "    player_name.append(match[i].text.replace(\"\\n\",''))"
   ]
  },
  {
   "cell_type": "code",
   "execution_count": 65,
   "metadata": {},
   "outputs": [],
   "source": [
    "team=soup.find_all('div',class_='rankings-block__banner--nationality')\n",
    "team_name=[]\n",
    "for i in range(0,1):\n",
    "    team_name.append(team[i].text.replace(\"\\n\",'')[:3])"
   ]
  },
  {
   "cell_type": "code",
   "execution_count": 66,
   "metadata": {},
   "outputs": [],
   "source": [
    "team=soup.find_all('span',class_='table-body__logo-text')\n",
    "for i in range(0,9):\n",
    "    team_name.append(team[i].text.replace(\"\\n\",''))"
   ]
  },
  {
   "cell_type": "code",
   "execution_count": 67,
   "metadata": {},
   "outputs": [],
   "source": [
    "rating=soup.find_all('div',class_='rankings-block__banner--rating')\n",
    "player_rating=[]\n",
    "for i in range(0,1):\n",
    "    player_rating.append(rating[i].text.replace(\"\\n\",'')[-3:])"
   ]
  },
  {
   "cell_type": "code",
   "execution_count": 68,
   "metadata": {},
   "outputs": [],
   "source": [
    "rating=soup.find_all('td',class_='table-body__cell rating')\n",
    "for i in range(0,9):\n",
    "    player_rating.append(rating[i].text.replace(\"\\n\",''))"
   ]
  },
  {
   "cell_type": "code",
   "execution_count": 69,
   "metadata": {},
   "outputs": [],
   "source": [
    "record=soup.find_all('span',class_='rankings-block__career-best-text')\n",
    "player_record=[]\n",
    "for i in range(0,1):\n",
    "    player_record.append(record[i].text.replace(\"\\n\",'').replace(\" \",''))"
   ]
  },
  {
   "cell_type": "code",
   "execution_count": 70,
   "metadata": {},
   "outputs": [],
   "source": [
    "record=soup.find_all('td',class_='table-body__cell u-text-right u-hide-phablet')\n",
    "for i in range(0,9):\n",
    "    player_record.append(record[i].text.replace(\"\\n\",'').replace(\" \",''))"
   ]
  },
  {
   "cell_type": "code",
   "execution_count": 71,
   "metadata": {},
   "outputs": [
    {
     "data": {
      "text/html": [
       "<div>\n",
       "<style scoped>\n",
       "    .dataframe tbody tr th:only-of-type {\n",
       "        vertical-align: middle;\n",
       "    }\n",
       "\n",
       "    .dataframe tbody tr th {\n",
       "        vertical-align: top;\n",
       "    }\n",
       "\n",
       "    .dataframe thead th {\n",
       "        text-align: right;\n",
       "    }\n",
       "</style>\n",
       "<table border=\"1\" class=\"dataframe\">\n",
       "  <thead>\n",
       "    <tr style=\"text-align: right;\">\n",
       "      <th></th>\n",
       "      <th>Player Name</th>\n",
       "      <th>Team</th>\n",
       "      <th>Rating</th>\n",
       "      <th>Record</th>\n",
       "    </tr>\n",
       "  </thead>\n",
       "  <tbody>\n",
       "    <tr>\n",
       "      <th>0</th>\n",
       "      <td>Tammy Beaumont</td>\n",
       "      <td>ENG</td>\n",
       "      <td>765</td>\n",
       "      <td>765vNewZealand,28/02/2021</td>\n",
       "    </tr>\n",
       "    <tr>\n",
       "      <th>1</th>\n",
       "      <td>Lizelle Lee</td>\n",
       "      <td>SA</td>\n",
       "      <td>758</td>\n",
       "      <td>773vIndia,14/03/2021</td>\n",
       "    </tr>\n",
       "    <tr>\n",
       "      <th>2</th>\n",
       "      <td>Alyssa Healy</td>\n",
       "      <td>AUS</td>\n",
       "      <td>756</td>\n",
       "      <td>756vNewZealand,10/04/2021</td>\n",
       "    </tr>\n",
       "    <tr>\n",
       "      <th>3</th>\n",
       "      <td>Stafanie Taylor</td>\n",
       "      <td>WI</td>\n",
       "      <td>746</td>\n",
       "      <td>765vIndia,02/03/2012</td>\n",
       "    </tr>\n",
       "    <tr>\n",
       "      <th>4</th>\n",
       "      <td>Meg Lanning</td>\n",
       "      <td>AUS</td>\n",
       "      <td>723</td>\n",
       "      <td>834vNewZealand,24/02/2016</td>\n",
       "    </tr>\n",
       "    <tr>\n",
       "      <th>5</th>\n",
       "      <td>Amy Satterthwaite</td>\n",
       "      <td>NZ</td>\n",
       "      <td>715</td>\n",
       "      <td>756vAustralia,02/03/2017</td>\n",
       "    </tr>\n",
       "    <tr>\n",
       "      <th>6</th>\n",
       "      <td>Smriti Mandhana</td>\n",
       "      <td>IND</td>\n",
       "      <td>710</td>\n",
       "      <td>797vEngland,28/02/2019</td>\n",
       "    </tr>\n",
       "    <tr>\n",
       "      <th>7</th>\n",
       "      <td>Mithali Raj</td>\n",
       "      <td>IND</td>\n",
       "      <td>709</td>\n",
       "      <td>839vAustralia,24/12/2004</td>\n",
       "    </tr>\n",
       "    <tr>\n",
       "      <th>8</th>\n",
       "      <td>Natalie Sciver</td>\n",
       "      <td>ENG</td>\n",
       "      <td>685</td>\n",
       "      <td>712vIndia,25/02/2019</td>\n",
       "    </tr>\n",
       "    <tr>\n",
       "      <th>9</th>\n",
       "      <td>Laura Wolvaardt</td>\n",
       "      <td>SA</td>\n",
       "      <td>683</td>\n",
       "      <td>725vIndia,07/03/2021</td>\n",
       "    </tr>\n",
       "  </tbody>\n",
       "</table>\n",
       "</div>"
      ],
      "text/plain": [
       "         Player Name Team Rating                     Record\n",
       "0     Tammy Beaumont  ENG    765  765vNewZealand,28/02/2021\n",
       "1        Lizelle Lee   SA    758       773vIndia,14/03/2021\n",
       "2       Alyssa Healy  AUS    756  756vNewZealand,10/04/2021\n",
       "3    Stafanie Taylor   WI    746       765vIndia,02/03/2012\n",
       "4        Meg Lanning  AUS    723  834vNewZealand,24/02/2016\n",
       "5  Amy Satterthwaite   NZ    715   756vAustralia,02/03/2017\n",
       "6    Smriti Mandhana  IND    710     797vEngland,28/02/2019\n",
       "7        Mithali Raj  IND    709   839vAustralia,24/12/2004\n",
       "8     Natalie Sciver  ENG    685       712vIndia,25/02/2019\n",
       "9    Laura Wolvaardt   SA    683       725vIndia,07/03/2021"
      ]
     },
     "execution_count": 71,
     "metadata": {},
     "output_type": "execute_result"
    }
   ],
   "source": [
    "import pandas as pd\n",
    "Player=pd.DataFrame({})\n",
    "Player['Player Name'] = player_name\n",
    "Player['Team']   = team_name\n",
    "Player['Rating']    = player_rating\n",
    "Player['Record']    = player_record\n",
    "Player"
   ]
  },
  {
   "cell_type": "markdown",
   "metadata": {},
   "source": [
    "### Que 6(iii). Top 10 women’s ODI all-rounder along with the records of their team and rating."
   ]
  },
  {
   "cell_type": "code",
   "execution_count": 72,
   "metadata": {},
   "outputs": [
    {
     "data": {
      "text/plain": [
       "<Response [200]>"
      ]
     },
     "execution_count": 72,
     "metadata": {},
     "output_type": "execute_result"
    }
   ],
   "source": [
    "page=requests.get(\"https://www.icc-cricket.com/rankings/womens/player-rankings/odi/all-rounder\")\n",
    "page"
   ]
  },
  {
   "cell_type": "code",
   "execution_count": 73,
   "metadata": {},
   "outputs": [],
   "source": [
    "soup=BeautifulSoup(page.content)"
   ]
  },
  {
   "cell_type": "code",
   "execution_count": 74,
   "metadata": {},
   "outputs": [],
   "source": [
    "player=soup.find_all('div',class_='rankings-block__banner--name-large')\n",
    "player_name=[]\n",
    "for i in range(0,1):\n",
    "    player_name.append(player[i].text.replace(\"\\n\",''))"
   ]
  },
  {
   "cell_type": "code",
   "execution_count": 75,
   "metadata": {},
   "outputs": [],
   "source": [
    "match=soup.find_all('td',class_='table-body__cell rankings-table__name name')\n",
    "for i in range(0,9):\n",
    "    player_name.append(match[i].text.replace(\"\\n\",''))"
   ]
  },
  {
   "cell_type": "code",
   "execution_count": 76,
   "metadata": {},
   "outputs": [],
   "source": [
    "team=soup.find_all('div',class_='rankings-block__banner--nationality')\n",
    "team_name=[]\n",
    "for i in range(0,1):\n",
    "    team_name.append(team[i].text.replace(\"\\n\",'')[:3])"
   ]
  },
  {
   "cell_type": "code",
   "execution_count": 77,
   "metadata": {},
   "outputs": [],
   "source": [
    "team=soup.find_all('span',class_='table-body__logo-text')\n",
    "for i in range(0,9):\n",
    "    team_name.append(team[i].text.replace(\"\\n\",''))"
   ]
  },
  {
   "cell_type": "code",
   "execution_count": 78,
   "metadata": {},
   "outputs": [],
   "source": [
    "rating=soup.find_all('div',class_='rankings-block__banner--rating')\n",
    "player_rating=[]\n",
    "for i in range(0,1):\n",
    "    player_rating.append(rating[i].text.replace(\"\\n\",'')[-3:])"
   ]
  },
  {
   "cell_type": "code",
   "execution_count": 79,
   "metadata": {},
   "outputs": [],
   "source": [
    "rating=soup.find_all('td',class_='table-body__cell rating')\n",
    "for i in range(0,9):\n",
    "    player_rating.append(rating[i].text.replace(\"\\n\",''))"
   ]
  },
  {
   "cell_type": "code",
   "execution_count": 80,
   "metadata": {},
   "outputs": [],
   "source": [
    "record=soup.find_all('span',class_='rankings-block__career-best-text')\n",
    "player_record=[]\n",
    "for i in range(0,1):\n",
    "    player_record.append(record[i].text.replace(\"\\n\",'').replace(\" \",''))"
   ]
  },
  {
   "cell_type": "code",
   "execution_count": 81,
   "metadata": {},
   "outputs": [],
   "source": [
    "record=soup.find_all('td',class_='table-body__cell u-text-right u-hide-phablet')\n",
    "for i in range(0,9):\n",
    "    player_record.append(record[i].text.replace(\"\\n\",'').replace(\" \",''))"
   ]
  },
  {
   "cell_type": "code",
   "execution_count": 82,
   "metadata": {},
   "outputs": [
    {
     "data": {
      "text/html": [
       "<div>\n",
       "<style scoped>\n",
       "    .dataframe tbody tr th:only-of-type {\n",
       "        vertical-align: middle;\n",
       "    }\n",
       "\n",
       "    .dataframe tbody tr th {\n",
       "        vertical-align: top;\n",
       "    }\n",
       "\n",
       "    .dataframe thead th {\n",
       "        text-align: right;\n",
       "    }\n",
       "</style>\n",
       "<table border=\"1\" class=\"dataframe\">\n",
       "  <thead>\n",
       "    <tr style=\"text-align: right;\">\n",
       "      <th></th>\n",
       "      <th>Player Name</th>\n",
       "      <th>Team</th>\n",
       "      <th>Rating</th>\n",
       "      <th>Record</th>\n",
       "    </tr>\n",
       "  </thead>\n",
       "  <tbody>\n",
       "    <tr>\n",
       "      <th>0</th>\n",
       "      <td>Marizanne Kapp</td>\n",
       "      <td>SA</td>\n",
       "      <td>418</td>\n",
       "      <td>418vIndia,17/03/2021</td>\n",
       "    </tr>\n",
       "    <tr>\n",
       "      <th>1</th>\n",
       "      <td>Ellyse Perry</td>\n",
       "      <td>AUS</td>\n",
       "      <td>418</td>\n",
       "      <td>548vWestIndies,11/09/2019</td>\n",
       "    </tr>\n",
       "    <tr>\n",
       "      <th>2</th>\n",
       "      <td>Stafanie Taylor</td>\n",
       "      <td>WI</td>\n",
       "      <td>410</td>\n",
       "      <td>559vNewZealand,10/10/2013</td>\n",
       "    </tr>\n",
       "    <tr>\n",
       "      <th>3</th>\n",
       "      <td>Natalie Sciver</td>\n",
       "      <td>ENG</td>\n",
       "      <td>349</td>\n",
       "      <td>349vNewZealand,28/02/2021</td>\n",
       "    </tr>\n",
       "    <tr>\n",
       "      <th>4</th>\n",
       "      <td>Deepti Sharma</td>\n",
       "      <td>IND</td>\n",
       "      <td>343</td>\n",
       "      <td>397vSouthAfrica,09/10/2019</td>\n",
       "    </tr>\n",
       "    <tr>\n",
       "      <th>5</th>\n",
       "      <td>Jess Jonassen</td>\n",
       "      <td>AUS</td>\n",
       "      <td>307</td>\n",
       "      <td>308vWestIndies,11/09/2019</td>\n",
       "    </tr>\n",
       "    <tr>\n",
       "      <th>6</th>\n",
       "      <td>Ashleigh Gardner</td>\n",
       "      <td>AUS</td>\n",
       "      <td>252</td>\n",
       "      <td>256vNewZealand,04/04/2021</td>\n",
       "    </tr>\n",
       "    <tr>\n",
       "      <th>7</th>\n",
       "      <td>Dane van Niekerk</td>\n",
       "      <td>SA</td>\n",
       "      <td>243</td>\n",
       "      <td>421vSriLanka,11/02/2019</td>\n",
       "    </tr>\n",
       "    <tr>\n",
       "      <th>8</th>\n",
       "      <td>Sophie Devine</td>\n",
       "      <td>NZ</td>\n",
       "      <td>242</td>\n",
       "      <td>305vAustralia,05/10/2020</td>\n",
       "    </tr>\n",
       "    <tr>\n",
       "      <th>9</th>\n",
       "      <td>Amelia Kerr</td>\n",
       "      <td>NZ</td>\n",
       "      <td>236</td>\n",
       "      <td>247vAustralia,07/04/2021</td>\n",
       "    </tr>\n",
       "  </tbody>\n",
       "</table>\n",
       "</div>"
      ],
      "text/plain": [
       "        Player Name Team Rating                      Record\n",
       "0    Marizanne Kapp  SA     418        418vIndia,17/03/2021\n",
       "1      Ellyse Perry  AUS    418   548vWestIndies,11/09/2019\n",
       "2   Stafanie Taylor   WI    410   559vNewZealand,10/10/2013\n",
       "3    Natalie Sciver  ENG    349   349vNewZealand,28/02/2021\n",
       "4     Deepti Sharma  IND    343  397vSouthAfrica,09/10/2019\n",
       "5     Jess Jonassen  AUS    307   308vWestIndies,11/09/2019\n",
       "6  Ashleigh Gardner  AUS    252   256vNewZealand,04/04/2021\n",
       "7  Dane van Niekerk   SA    243     421vSriLanka,11/02/2019\n",
       "8     Sophie Devine   NZ    242    305vAustralia,05/10/2020\n",
       "9       Amelia Kerr   NZ    236    247vAustralia,07/04/2021"
      ]
     },
     "execution_count": 82,
     "metadata": {},
     "output_type": "execute_result"
    }
   ],
   "source": [
    "import pandas as pd\n",
    "Player=pd.DataFrame({})\n",
    "Player['Player Name'] = player_name\n",
    "Player['Team']   = team_name\n",
    "Player['Rating']    = player_rating\n",
    "Player['Record']    = player_record\n",
    "Player"
   ]
  },
  {
   "cell_type": "markdown",
   "metadata": {},
   "source": [
    "### Que 7. Write a python program to scrape details of all the mobile phones under Rs. 20,000 listed on Amazon.in. The scraped data should include Product Name, Price, Image URL and Average Rating."
   ]
  },
  {
   "cell_type": "markdown",
   "metadata": {},
   "source": [
    "Answer number 7 is in another notbook. Here is the link"
   ]
  },
  {
   "cell_type": "markdown",
   "metadata": {},
   "source": [
    "https://github.com/ashishmodi27/WEB-SCRAPING-ASSIGNMENT-1/blob/main/Amazon.ipynb"
   ]
  },
  {
   "cell_type": "markdown",
   "metadata": {},
   "source": [
    "### Que 8. Write a python program to extract information about the local weather from the National Weather Service website of USA, https://www.weather.gov/ for the city, San Francisco. You need to extract data about 7 day extended forecast display for the city. The data should include period, short description, temperature and description. "
   ]
  },
  {
   "cell_type": "code",
   "execution_count": 83,
   "metadata": {},
   "outputs": [
    {
     "data": {
      "text/plain": [
       "<Response [200]>"
      ]
     },
     "execution_count": 83,
     "metadata": {},
     "output_type": "execute_result"
    }
   ],
   "source": [
    "page=requests.get(\"https://forecast.weather.gov/MapClick.php?textField1=37.78&textField2=-122.42#.YI1AqrUzZPY\")\n",
    "page"
   ]
  },
  {
   "cell_type": "code",
   "execution_count": 84,
   "metadata": {},
   "outputs": [],
   "source": [
    "soup=BeautifulSoup(page.content)"
   ]
  },
  {
   "cell_type": "code",
   "execution_count": 85,
   "metadata": {},
   "outputs": [],
   "source": [
    "period=soup.find_all('div',class_='col-sm-2 forecast-label')\n",
    "san_period=[]\n",
    "for i in range(0,9):\n",
    "    san_period.append(period[i].text.replace(\"\\n\",''))"
   ]
  },
  {
   "cell_type": "code",
   "execution_count": 86,
   "metadata": {},
   "outputs": [],
   "source": [
    "desc=soup.find_all('div',class_='col-sm-10 forecast-text')\n",
    "description=[]\n",
    "for i in range(0,9):\n",
    "    description.append(desc[i].text.replace(\"\\n\",''))"
   ]
  },
  {
   "cell_type": "code",
   "execution_count": 87,
   "metadata": {},
   "outputs": [],
   "source": [
    "short_desc=soup.find_all('p',class_='short-desc')\n",
    "short_description=[]\n",
    "for i in range(0,9):\n",
    "    short_description.append(short_desc[i].text.replace(\"\\n\",''))"
   ]
  },
  {
   "cell_type": "code",
   "execution_count": 88,
   "metadata": {},
   "outputs": [],
   "source": [
    "temp=soup.find_all('div',class_='tombstone-container')\n",
    "san_temp=[]\n",
    "for i in range(0,9):\n",
    "    des1 = temp[i].text.replace(\"\\n\",'')\n",
    "    des2 = des1.find(short_description[i])\n",
    "    length = len(short_description[i])\n",
    "    san_temp.append(des1[des2+length:])"
   ]
  },
  {
   "cell_type": "code",
   "execution_count": 89,
   "metadata": {},
   "outputs": [
    {
     "data": {
      "text/html": [
       "<div>\n",
       "<style scoped>\n",
       "    .dataframe tbody tr th:only-of-type {\n",
       "        vertical-align: middle;\n",
       "    }\n",
       "\n",
       "    .dataframe tbody tr th {\n",
       "        vertical-align: top;\n",
       "    }\n",
       "\n",
       "    .dataframe thead th {\n",
       "        text-align: right;\n",
       "    }\n",
       "</style>\n",
       "<table border=\"1\" class=\"dataframe\">\n",
       "  <thead>\n",
       "    <tr style=\"text-align: right;\">\n",
       "      <th></th>\n",
       "      <th>Period</th>\n",
       "      <th>Short Description</th>\n",
       "      <th>Temprature</th>\n",
       "      <th>Description</th>\n",
       "    </tr>\n",
       "  </thead>\n",
       "  <tbody>\n",
       "    <tr>\n",
       "      <th>0</th>\n",
       "      <td>Tonight</td>\n",
       "      <td>Mostly Clear</td>\n",
       "      <td>Low: 51 °F</td>\n",
       "      <td>Mostly clear, with a low around 51. West north...</td>\n",
       "    </tr>\n",
       "    <tr>\n",
       "      <th>1</th>\n",
       "      <td>Sunday</td>\n",
       "      <td>Sunny</td>\n",
       "      <td>High: 67 °F</td>\n",
       "      <td>Sunny, with a high near 67. West wind 5 to 10 ...</td>\n",
       "    </tr>\n",
       "    <tr>\n",
       "      <th>2</th>\n",
       "      <td>Sunday Night</td>\n",
       "      <td>Mostly Clear</td>\n",
       "      <td>Low: 53 °F</td>\n",
       "      <td>Mostly clear, with a low around 53. West wind ...</td>\n",
       "    </tr>\n",
       "    <tr>\n",
       "      <th>3</th>\n",
       "      <td>Monday</td>\n",
       "      <td>Sunny</td>\n",
       "      <td>High: 73 °F</td>\n",
       "      <td>Sunny, with a high near 73. Southeast wind 5 t...</td>\n",
       "    </tr>\n",
       "    <tr>\n",
       "      <th>4</th>\n",
       "      <td>Monday Night</td>\n",
       "      <td>Mostly Clear</td>\n",
       "      <td>Low: 54 °F</td>\n",
       "      <td>Mostly clear, with a low around 54. West north...</td>\n",
       "    </tr>\n",
       "    <tr>\n",
       "      <th>5</th>\n",
       "      <td>Tuesday</td>\n",
       "      <td>Sunny</td>\n",
       "      <td>High: 72 °F</td>\n",
       "      <td>Sunny, with a high near 72.</td>\n",
       "    </tr>\n",
       "    <tr>\n",
       "      <th>6</th>\n",
       "      <td>Tuesday Night</td>\n",
       "      <td>Mostly Clear</td>\n",
       "      <td>Low: 51 °F</td>\n",
       "      <td>Mostly clear, with a low around 51.</td>\n",
       "    </tr>\n",
       "    <tr>\n",
       "      <th>7</th>\n",
       "      <td>Wednesday</td>\n",
       "      <td>Sunny</td>\n",
       "      <td>High: 67 °F</td>\n",
       "      <td>Sunny, with a high near 67.</td>\n",
       "    </tr>\n",
       "    <tr>\n",
       "      <th>8</th>\n",
       "      <td>Wednesday Night</td>\n",
       "      <td>Mostly Clear</td>\n",
       "      <td>Low: 51 °F</td>\n",
       "      <td>Mostly clear, with a low around 51.</td>\n",
       "    </tr>\n",
       "  </tbody>\n",
       "</table>\n",
       "</div>"
      ],
      "text/plain": [
       "            Period Short Description   Temprature  \\\n",
       "0          Tonight      Mostly Clear   Low: 51 °F   \n",
       "1           Sunday             Sunny  High: 67 °F   \n",
       "2     Sunday Night      Mostly Clear   Low: 53 °F   \n",
       "3           Monday             Sunny  High: 73 °F   \n",
       "4     Monday Night      Mostly Clear   Low: 54 °F   \n",
       "5          Tuesday             Sunny  High: 72 °F   \n",
       "6    Tuesday Night      Mostly Clear   Low: 51 °F   \n",
       "7        Wednesday             Sunny  High: 67 °F   \n",
       "8  Wednesday Night      Mostly Clear   Low: 51 °F   \n",
       "\n",
       "                                         Description  \n",
       "0  Mostly clear, with a low around 51. West north...  \n",
       "1  Sunny, with a high near 67. West wind 5 to 10 ...  \n",
       "2  Mostly clear, with a low around 53. West wind ...  \n",
       "3  Sunny, with a high near 73. Southeast wind 5 t...  \n",
       "4  Mostly clear, with a low around 54. West north...  \n",
       "5                        Sunny, with a high near 72.  \n",
       "6                Mostly clear, with a low around 51.  \n",
       "7                        Sunny, with a high near 67.  \n",
       "8                Mostly clear, with a low around 51.  "
      ]
     },
     "execution_count": 89,
     "metadata": {},
     "output_type": "execute_result"
    }
   ],
   "source": [
    "import pandas as pd\n",
    "Temprature=pd.DataFrame({})\n",
    "Temprature['Period']            = san_period\n",
    "Temprature['Short Description'] = short_description\n",
    "Temprature['Temprature']        = san_temp\n",
    "Temprature['Description']       =  description\n",
    "Temprature"
   ]
  }
 ],
 "metadata": {
  "kernelspec": {
   "display_name": "Python 3",
   "language": "python",
   "name": "python3"
  },
  "language_info": {
   "codemirror_mode": {
    "name": "ipython",
    "version": 3
   },
   "file_extension": ".py",
   "mimetype": "text/x-python",
   "name": "python",
   "nbconvert_exporter": "python",
   "pygments_lexer": "ipython3",
   "version": "3.8.3"
  }
 },
 "nbformat": 4,
 "nbformat_minor": 4
}
