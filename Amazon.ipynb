{
 "cells": [
  {
   "cell_type": "code",
   "execution_count": 1,
   "metadata": {},
   "outputs": [],
   "source": [
    "from bs4 import BeautifulSoup\n",
    "import requests"
   ]
  },
  {
   "cell_type": "code",
   "execution_count": 2,
   "metadata": {},
   "outputs": [],
   "source": [
    "page=requests.get(\"https://www.amazon.in/s?i=electronics&bbn=1389401031&rh=n%3A976419031%2Cn%3A1389401031%2Cn%3A1389432031%2Cp_36%3A-2000000&dc&qid=1610348912&rnid=1389401031&ref=sr_pg_1\")"
   ]
  },
  {
   "cell_type": "code",
   "execution_count": 3,
   "metadata": {},
   "outputs": [],
   "source": [
    "content_amazon=page.content"
   ]
  },
  {
   "cell_type": "code",
   "execution_count": 4,
   "metadata": {},
   "outputs": [],
   "source": [
    "soup=BeautifulSoup(content_amazon,\"html.parser\")"
   ]
  },
  {
   "cell_type": "code",
   "execution_count": 5,
   "metadata": {},
   "outputs": [],
   "source": [
    "name=[]\n",
    "infos=soup.find_all(\"a\",{\"class\": \"a-link-normal a-text-normal\"})\n",
    "for i in infos:\n",
    "    name.append(i.text.strip())"
   ]
  },
  {
   "cell_type": "code",
   "execution_count": 6,
   "metadata": {},
   "outputs": [],
   "source": [
    "price=[]\n",
    "prices=soup.find_all(\"span\",{\"class\": \"a-price-whole\"})\n",
    "for p in prices:\n",
    "    price.append(p.text.strip())"
   ]
  },
  {
   "cell_type": "code",
   "execution_count": 7,
   "metadata": {},
   "outputs": [],
   "source": [
    "image_links=[]\n",
    "links=soup.find_all(\"img\")\n",
    "for i in links:\n",
    "    try:\n",
    "        image_links.append(i.get(\"srcset\").split()[0])\n",
    "    except:\n",
    "        pass"
   ]
  },
  {
   "cell_type": "code",
   "execution_count": 8,
   "metadata": {},
   "outputs": [],
   "source": [
    "ratings=[]\n",
    "stars=soup.find_all(\"div\", {\"class\":\"a-row a-size-small\"})\n",
    "for i in stars:\n",
    "    r=i.find(\"span\").get(\"aria-label\")\n",
    "    ratings.append(r.split()[0])"
   ]
  },
  {
   "cell_type": "code",
   "execution_count": 9,
   "metadata": {},
   "outputs": [],
   "source": [
    "url1=\"https://www.amazon.in/s?i=electronics&bbn=1389401031&rh=n%3A976419031%2Cn%3A1389401031%2Cn%3A1389432031%2Cp_36%3A-2000000&dc&page=\"\n",
    "url2=\"qid=1610348912&rnid=1389401031&ref=sr_pg_\"\n",
    "for page in range(2, 251):\n",
    "    req=requests.get(url1+str(page)+url2+str(page))\n",
    "    contents=req.content\n",
    "    soup=BeautifulSoup(contents,\"html.parser\")\n",
    "    \n",
    "  \n",
    "    infos1=soup.find_all(\"a\",{\"class\": \"a-link-normal a-text-normal\"})\n",
    "    for i in infos1:\n",
    "        name.append(i.text.strip())\n",
    "    \n",
    "    \n",
    "    prices1=soup.find_all(\"span\",{\"class\": \"a-price-whole\"})\n",
    "    for p in prices1:\n",
    "        price.append(p.text.strip())\n",
    "        \n",
    "    links=soup.find_all(\"img\")\n",
    "    for i in links:\n",
    "        try:\n",
    "            image_links.append(i.get(\"srcset\").split()[0])\n",
    "        except:\n",
    "            pass\n",
    "\n",
    "        \n",
    "    stars1=soup.find_all(\"div\", {\"class\":\"a-row a-size-small\"})\n",
    "    for i in stars1:\n",
    "        r=i.find(\"span\").get(\"aria-label\")\n",
    "        ratings.append(r.split()[0])"
   ]
  },
  {
   "cell_type": "code",
   "execution_count": 10,
   "metadata": {},
   "outputs": [
    {
     "data": {
      "text/plain": [
       "(1344, 1344, 1344, 1344)"
      ]
     },
     "execution_count": 10,
     "metadata": {},
     "output_type": "execute_result"
    }
   ],
   "source": [
    "len (name), len(ratings), len(image_links), len(price)"
   ]
  },
  {
   "cell_type": "code",
   "execution_count": 11,
   "metadata": {},
   "outputs": [],
   "source": [
    "import pandas as pd\n",
    "product_info=pd.DataFrame()"
   ]
  },
  {
   "cell_type": "code",
   "execution_count": 12,
   "metadata": {},
   "outputs": [],
   "source": [
    "product_info[\"Moblie Name\"] = name\n",
    "product_info['Price']       = price\n",
    "product_info['Img Src']     = image_links\n",
    "product_info['Rating']      = ratings"
   ]
  },
  {
   "cell_type": "code",
   "execution_count": 13,
   "metadata": {},
   "outputs": [
    {
     "data": {
      "text/html": [
       "<div>\n",
       "<style scoped>\n",
       "    .dataframe tbody tr th:only-of-type {\n",
       "        vertical-align: middle;\n",
       "    }\n",
       "\n",
       "    .dataframe tbody tr th {\n",
       "        vertical-align: top;\n",
       "    }\n",
       "\n",
       "    .dataframe thead th {\n",
       "        text-align: right;\n",
       "    }\n",
       "</style>\n",
       "<table border=\"1\" class=\"dataframe\">\n",
       "  <thead>\n",
       "    <tr style=\"text-align: right;\">\n",
       "      <th></th>\n",
       "      <th>Moblie Name</th>\n",
       "      <th>Price</th>\n",
       "      <th>Img Src</th>\n",
       "      <th>Rating</th>\n",
       "    </tr>\n",
       "  </thead>\n",
       "  <tbody>\n",
       "    <tr>\n",
       "      <th>0</th>\n",
       "      <td>Redmi 9 (Sky Blue, 4GB RAM, 64GB Storage)| 500...</td>\n",
       "      <td>8,799</td>\n",
       "      <td>https://m.media-amazon.com/images/I/71A9Vo1Bat...</td>\n",
       "      <td>4.2</td>\n",
       "    </tr>\n",
       "    <tr>\n",
       "      <th>1</th>\n",
       "      <td>Samsung Galaxy M31 (Ocean Blue, 6GB RAM, 128GB...</td>\n",
       "      <td>14,999</td>\n",
       "      <td>https://m.media-amazon.com/images/I/71-Su4Wr0H...</td>\n",
       "      <td>4.3</td>\n",
       "    </tr>\n",
       "    <tr>\n",
       "      <th>2</th>\n",
       "      <td>Samsung Galaxy M31 (Space Black, 6GB RAM, 128G...</td>\n",
       "      <td>14,999</td>\n",
       "      <td>https://m.media-amazon.com/images/I/71OxJeyywS...</td>\n",
       "      <td>4.3</td>\n",
       "    </tr>\n",
       "    <tr>\n",
       "      <th>3</th>\n",
       "      <td>Redmi 9A (Nature Green, 2GB Ram, 32GB Storage)...</td>\n",
       "      <td>6,799</td>\n",
       "      <td>https://m.media-amazon.com/images/I/71sxlhYhKW...</td>\n",
       "      <td>4.2</td>\n",
       "    </tr>\n",
       "    <tr>\n",
       "      <th>4</th>\n",
       "      <td>Redmi 9 (Carbon Black, 4GB RAM, 64GB Storage) ...</td>\n",
       "      <td>8,799</td>\n",
       "      <td>https://m.media-amazon.com/images/I/716nHhG9SW...</td>\n",
       "      <td>4.2</td>\n",
       "    </tr>\n",
       "    <tr>\n",
       "      <th>...</th>\n",
       "      <td>...</td>\n",
       "      <td>...</td>\n",
       "      <td>...</td>\n",
       "      <td>...</td>\n",
       "    </tr>\n",
       "    <tr>\n",
       "      <th>1339</th>\n",
       "      <td>Oppo A31 (Fantasy White, 6GB RAM, 128GB Storag...</td>\n",
       "      <td>11,990</td>\n",
       "      <td>https://m.media-amazon.com/images/I/61IhTtJUXJ...</td>\n",
       "      <td>4.2</td>\n",
       "    </tr>\n",
       "    <tr>\n",
       "      <th>1340</th>\n",
       "      <td>Samsung Galaxy M12 (Black,4GB RAM, 64GB Storag...</td>\n",
       "      <td>10,999</td>\n",
       "      <td>https://m.media-amazon.com/images/I/714QWDxXgN...</td>\n",
       "      <td>4.0</td>\n",
       "    </tr>\n",
       "    <tr>\n",
       "      <th>1341</th>\n",
       "      <td>Redmi Note 9 (Aqua Green, 4GB RAM, 64GB Storag...</td>\n",
       "      <td>10,999</td>\n",
       "      <td>https://m.media-amazon.com/images/I/71X5I1cVfb...</td>\n",
       "      <td>4.3</td>\n",
       "    </tr>\n",
       "    <tr>\n",
       "      <th>1342</th>\n",
       "      <td>Samsung Galaxy M12 (Blue,6GB RAM, 128GB Storag...</td>\n",
       "      <td>13,499</td>\n",
       "      <td>https://m.media-amazon.com/images/I/71yYaNztZ0...</td>\n",
       "      <td>4.0</td>\n",
       "    </tr>\n",
       "    <tr>\n",
       "      <th>1343</th>\n",
       "      <td>Redmi 9 Power (Mighty Black 4GB RAM 64GB Stora...</td>\n",
       "      <td>10,499</td>\n",
       "      <td>https://m.media-amazon.com/images/I/71hEzQGO5q...</td>\n",
       "      <td>4.2</td>\n",
       "    </tr>\n",
       "  </tbody>\n",
       "</table>\n",
       "<p>1344 rows × 4 columns</p>\n",
       "</div>"
      ],
      "text/plain": [
       "                                            Moblie Name   Price  \\\n",
       "0     Redmi 9 (Sky Blue, 4GB RAM, 64GB Storage)| 500...   8,799   \n",
       "1     Samsung Galaxy M31 (Ocean Blue, 6GB RAM, 128GB...  14,999   \n",
       "2     Samsung Galaxy M31 (Space Black, 6GB RAM, 128G...  14,999   \n",
       "3     Redmi 9A (Nature Green, 2GB Ram, 32GB Storage)...   6,799   \n",
       "4     Redmi 9 (Carbon Black, 4GB RAM, 64GB Storage) ...   8,799   \n",
       "...                                                 ...     ...   \n",
       "1339  Oppo A31 (Fantasy White, 6GB RAM, 128GB Storag...  11,990   \n",
       "1340  Samsung Galaxy M12 (Black,4GB RAM, 64GB Storag...  10,999   \n",
       "1341  Redmi Note 9 (Aqua Green, 4GB RAM, 64GB Storag...  10,999   \n",
       "1342  Samsung Galaxy M12 (Blue,6GB RAM, 128GB Storag...  13,499   \n",
       "1343  Redmi 9 Power (Mighty Black 4GB RAM 64GB Stora...  10,499   \n",
       "\n",
       "                                                Img Src Rating  \n",
       "0     https://m.media-amazon.com/images/I/71A9Vo1Bat...    4.2  \n",
       "1     https://m.media-amazon.com/images/I/71-Su4Wr0H...    4.3  \n",
       "2     https://m.media-amazon.com/images/I/71OxJeyywS...    4.3  \n",
       "3     https://m.media-amazon.com/images/I/71sxlhYhKW...    4.2  \n",
       "4     https://m.media-amazon.com/images/I/716nHhG9SW...    4.2  \n",
       "...                                                 ...    ...  \n",
       "1339  https://m.media-amazon.com/images/I/61IhTtJUXJ...    4.2  \n",
       "1340  https://m.media-amazon.com/images/I/714QWDxXgN...    4.0  \n",
       "1341  https://m.media-amazon.com/images/I/71X5I1cVfb...    4.3  \n",
       "1342  https://m.media-amazon.com/images/I/71yYaNztZ0...    4.0  \n",
       "1343  https://m.media-amazon.com/images/I/71hEzQGO5q...    4.2  \n",
       "\n",
       "[1344 rows x 4 columns]"
      ]
     },
     "execution_count": 13,
     "metadata": {},
     "output_type": "execute_result"
    }
   ],
   "source": [
    "product_info"
   ]
  }
 ],
 "metadata": {
  "kernelspec": {
   "display_name": "Python 3",
   "language": "python",
   "name": "python3"
  },
  "language_info": {
   "codemirror_mode": {
    "name": "ipython",
    "version": 3
   },
   "file_extension": ".py",
   "mimetype": "text/x-python",
   "name": "python",
   "nbconvert_exporter": "python",
   "pygments_lexer": "ipython3",
   "version": "3.8.3"
  }
 },
 "nbformat": 4,
 "nbformat_minor": 4
}
